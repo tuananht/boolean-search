{
  "nbformat": 4,
  "nbformat_minor": 0,
  "metadata": {
    "colab": {
      "name": "boolean search.ipynb",
      "provenance": [],
      "collapsed_sections": [],
      "authorship_tag": "ABX9TyO9K8ZRHrpSIUsOgOTndLP8",
      "include_colab_link": true
    },
    "kernelspec": {
      "name": "python3",
      "display_name": "Python 3"
    }
  },
  "cells": [
    {
      "cell_type": "markdown",
      "metadata": {
        "id": "view-in-github",
        "colab_type": "text"
      },
      "source": [
        "<a href=\"https://colab.research.google.com/github/tuananht/boolean-search/blob/main/boolean_search.ipynb\" target=\"_parent\"><img src=\"https://colab.research.google.com/assets/colab-badge.svg\" alt=\"Open In Colab\"/></a>"
      ]
    },
    {
      "cell_type": "code",
      "metadata": {
        "id": "cJmBuEP7eQWR",
        "outputId": "057feb41-30f1-49e0-ef31-e3c5133fff1d",
        "colab": {
          "base_uri": "https://localhost:8080/",
          "height": 34
        }
      },
      "source": [
        "from google.colab import drive\n",
        "drive.mount('/content/drive')"
      ],
      "execution_count": 1,
      "outputs": [
        {
          "output_type": "stream",
          "text": [
            "Mounted at /content/drive\n"
          ],
          "name": "stdout"
        }
      ]
    },
    {
      "cell_type": "code",
      "metadata": {
        "id": "ryNxa5HVfD3K",
        "outputId": "6021a7a3-fac0-42ab-978b-c912a99a416d",
        "colab": {
          "base_uri": "https://localhost:8080/",
          "height": 72
        }
      },
      "source": [
        "import glob\n",
        "from collections import Counter\n",
        "import numpy as np\n",
        "\n",
        "vocb = {}\n",
        "fileNames = glob.glob('/content/drive/My Drive/UIT-GRAD/Model/content-news/*.txt')\n",
        "totalFiles = len(fileNames)\n",
        "for index, filename in enumerate(fileNames):\n",
        "   with open(os.path.join(content_path, filename), 'r') as f: # open in readonly mode\n",
        "      content = f.read()\n",
        "      to_array = content.split()\n",
        "      for value in to_array:\n",
        "        booleanVector = vocb.get(value)\n",
        "        if (booleanVector is not None):\n",
        "          if (booleanVector[index] == 1):\n",
        "            continue\n",
        "          booleanVector[index] = 1\n",
        "        else:\n",
        "          booleanVector = np.zeros(totalFiles)\n",
        "          booleanVector[index] = 1\n",
        "\n",
        "        vocb[value] = booleanVector\n",
        "print(fileNames)\n",
        "print(vocb['Hương'])"
      ],
      "execution_count": 8,
      "outputs": [
        {
          "output_type": "stream",
          "text": [
            "['/content/drive/My Drive/UIT-GRAD/Model/content-news/Nhân sự đại hội.txt', '/content/drive/My Drive/UIT-GRAD/Model/content-news/Nhật bản lập hàng rào tác chiến.txt', '/content/drive/My Drive/UIT-GRAD/Model/content-news/Nhan su 2020.txt', '/content/drive/My Drive/UIT-GRAD/Model/content-news/Dinh chỉ 7 phụ nữ.txt', '/content/drive/My Drive/UIT-GRAD/Model/content-news/Nước sông Hương gần tràn bờ, TP Huế ngập.txt', '/content/drive/My Drive/UIT-GRAD/Model/content-news/Bau cu my.txt']\n",
            "[0. 0. 0. 0. 1. 0.]\n"
          ],
          "name": "stdout"
        }
      ]
    },
    {
      "cell_type": "code",
      "metadata": {
        "id": "vOW7LB0i4UEj"
      },
      "source": [
        "def andTwoArray(array1, array2):\n",
        "  result = np.zeros(len(array1))\n",
        "  for i in range(len(array1)):\n",
        "    if array1[i] == array2[i]:\n",
        "      result[i] = array1[i]\n",
        "    elif array1[i] == 0 or array2[i] == 0:\n",
        "      result[i] = 0\n",
        "  return result\n",
        "\n",
        "def orTwoArray(array1, array2):\n",
        "  result = np.zeros(len(array1))\n",
        "  for i in range(len(array1)):\n",
        "      if array1[i] == array2[i]:\n",
        "        result[i] = array1[i]\n",
        "      elif array1[i] == 1 or array2[i] == 1:\n",
        "        result[i] = 1\n",
        "  return result\n",
        "\n",
        "\n",
        "def notTwoArray(array1, array2):\n",
        "  result = np.zeros(len(array1))\n",
        "  for i in range(len(array1)):\n",
        "    if array1[i] == 0:\n",
        "      result[i] = 1\n",
        "    else:\n",
        "      result[i] = 0"
      ],
      "execution_count": 17,
      "outputs": []
    },
    {
      "cell_type": "code",
      "metadata": {
        "id": "NqFYGInXHCJr"
      },
      "source": [
        "def showResult(result):\n",
        "  file = []\n",
        "  for index, val in enumerate(result):\n",
        "    if (val == 1):\n",
        "      file.append(fileNames[index])\n",
        "\n",
        "  return file"
      ],
      "execution_count": 22,
      "outputs": []
    },
    {
      "cell_type": "code",
      "metadata": {
        "id": "7EtLAvXAGuvK",
        "outputId": "71324cc7-0d42-4bec-ba8c-574caf2965df",
        "colab": {
          "base_uri": "https://localhost:8080/",
          "height": 87
        }
      },
      "source": [
        "result = orTwoArray(vocb['Hương'], vocb['Quốc'])\n",
        "files = showResult(result)\n",
        "\n",
        "print(result)\n",
        "print('\\n'.join(map(str, files)))\n",
        "\n",
        "\n"
      ],
      "execution_count": 32,
      "outputs": [
        {
          "output_type": "stream",
          "text": [
            "[1. 1. 0. 0. 1. 0.]\n",
            "/content/drive/My Drive/UIT-GRAD/Model/content-news/Nhân sự đại hội.txt\n",
            "/content/drive/My Drive/UIT-GRAD/Model/content-news/Nhật bản lập hàng rào tác chiến.txt\n",
            "/content/drive/My Drive/UIT-GRAD/Model/content-news/Nước sông Hương gần tràn bờ, TP Huế ngập.txt\n"
          ],
          "name": "stdout"
        }
      ]
    },
    {
      "cell_type": "code",
      "metadata": {
        "id": "dynkATHwIgZm",
        "outputId": "9d99cfca-fb18-4ab2-b47b-c70f7130355f",
        "colab": {
          "base_uri": "https://localhost:8080/",
          "height": 105
        }
      },
      "source": [
        "query = 'nhân sư đại hội 2020'\n",
        "print(query.split(' '))\n",
        "\n",
        "vectorQuery = {}\n",
        "for q in query.split(' '):\n",
        "  if q in vocb.keys():\n",
        "    vectorQuery[q] = vocb[q]\n",
        "\n",
        "result = np.zeros(len(fileNames))\n",
        "for i in vectorQuery.keys():\n",
        "  result = orTwoArray(result, vectorQuery[i])\n",
        "\n",
        "print('\\n'.join(map(str, showResult(result))))\n"
      ],
      "execution_count": 43,
      "outputs": [
        {
          "output_type": "stream",
          "text": [
            "['nhân', 'sư', 'đại', 'hội', '2020']\n",
            "/content/drive/My Drive/UIT-GRAD/Model/content-news/Nhân sự đại hội.txt\n",
            "/content/drive/My Drive/UIT-GRAD/Model/content-news/Nhan su 2020.txt\n",
            "/content/drive/My Drive/UIT-GRAD/Model/content-news/Dinh chỉ 7 phụ nữ.txt\n",
            "/content/drive/My Drive/UIT-GRAD/Model/content-news/Nước sông Hương gần tràn bờ, TP Huế ngập.txt\n"
          ],
          "name": "stdout"
        }
      ]
    },
    {
      "cell_type": "code",
      "metadata": {
        "id": "QpyYqT_aJJVa",
        "outputId": "0a443419-ca07-4fc5-b67f-1fb249d609d7",
        "colab": {
          "base_uri": "https://localhost:8080/",
          "height": 54
        }
      },
      "source": [
        "vocb.keys()"
      ],
      "execution_count": 39,
      "outputs": [
        {
          "output_type": "execute_result",
          "data": {
            "text/plain": [
              "dict_keys(['Nhân', 'sự', 'Đại', 'hội', 'XIII:', 'Vấn', 'đề', 'then', 'chốt', 'là', 'phát', 'hiện', 'và', 'sử', 'dụng', 'nhân', 'tài', 'nguồn', 'lực', 'quan', 'trọng', 'nhất', 'của', 'đất', 'nước', 'quốc', 'gia', 'nào', 'nắm', 'trong', 'tay', 'này', 'sẽ', 'có', 'thế', 'mạnh', 'cạnh', 'tranh', 'bứt', 'phá.', 'dịp', 'Trung', 'ương', 'đang', 'chuẩn', 'bị', 'cho', 'lần', 'thứ', 'XIII', 'Đảng,', 'GS.TSKH', 'Nguyễn', 'Đình', 'Đức', '-', 'ĐH', 'Quốc', 'Hà', 'Nội', 'đã', 'chia', 'sẻ', 'về', 'chuyển', 'giao', 'hệ', 'lãnh', 'đạo', 'công', 'tác', 'cán', 'bộ', 'cấp', 'chiến', 'lược', 'Đảng.', 'Phóng', 'viên:', 'Thời', 'điểm', 'Đảng', 'đúng', 'vào', 'thời', 'kỳ', 'hệ,', '“từ', 'lớp', 'sinh', 'ra,', 'lớn', 'lên,', 'được', 'rèn', 'luyện,', 'trưởng', 'thành', 'những', 'năm', 'tháng', 'kháng', 'chiến,', 'chủ', 'yếu', 'đào', 'tạo', 'ở', 'tại', 'các', 'xã', 'nghĩa', 'trước', 'đây,', 'sang', 'hòa', 'bình', 'từ', 'nhiều', 'nguồn,', 'thể', 'chế', 'chính', 'trị', 'khác', 'nhau”.', 'Đây', 'vấn', 'cực', 'mà', 'Tổng', 'Bí', 'thư,', 'Chủ', 'tịch', 'Phú', 'Trọng', 'nhấn', 'bài', 'viết', '“Một', 'số', 'cần', 'đặc', 'biệt', 'tâm', 'Đảng”.', 'Theo', 'giáo', 'sư,', 'sao', 'lại', 'như', 'vậy', 'bước', 'ý', 'nào?', 'Đức:', 'tôi,', 'đồng', 'chí', 'nhận', 'định', 'hoàn', 'toàn', 'xác', 'khách', 'bối', 'cảnh', 'ta', 'nay.', 'Đồng', 'thời,', 'cũng', 'trăn', 'trở', 'mong', 'muốn', 'Nhà', 'ta,', 'nguyện', 'vọng', 'dân', 'thực', 'đến', 'việc', 'công,', 'trông', 'chờ', 'đội', 'ngũ', 'bầu', 'ra', 'lý', 'tưởng,', 'tình', 'yêu', 'hoài', 'bão', 'chấn', 'hưng', 'nước,', 'vì', 'hạnh', 'phúc', 'dân,', 'đức,', 'bản', 'lĩnh', 'vững', 'vàng', 'phải', 'tôi', 'luyện', 'qua', 'khó', 'khăn', 'thử', 'thách.', 'đó,', 'dù', 'nhập', 'đâu', 'chăng', 'nữa', 'niềm', 'tin', 'trung', 'tuyệt', 'đối', 'với', 'tưởng', 'nghiệp', 'cách', 'mạng', 'biết', 'quý', 'gìn', 'giữ,', 'huy', 'quả', 'giá', 'cốt', 'lõi', 'bao', 'cha', 'anh', 'chúng', 'hy', 'xương', 'máu', 'để', 'ngày', 'hôm', 'Cán', 'rất', 'trọng.', 'Bác', 'Hồ', 'từng', 'dạy', '“Cán', 'cái', 'gốc', 'mọi', 'việc;', 'hay', 'thất', 'bại', 'đều', 'do', 'tốt', 'kém”.', 'đặt', 'gì', 'quản', 'bộ?', 'Công', 'Vì', 'vậy,', 'hết', 'giữ', 'đoàn', 'kết', 'con', 'ngươi', 'mắt', 'mình.', 'bổ', 'nhiệm', 'sai', 'người', 'thì', 'không', 'phục', 'mất', 'tin.', 'Thứ', 'hai,', 'thiện', 'thống', 'luật', 'pháp,', 'chế,', 'sách,', 'kẽ', 'hở,', 'làm', 'cơ', 'sở', 'pháp', 'ngăn', 'chặn,', 'răn', 'đe,', 'đấu', 'tranh,', 'xử', 'tượng', 'tha', 'hóa,', 'biến', 'chất,', 'vi', 'phạm', 'thiếu', 'gương', 'mẫu,', 'cậy', 'chức,', 'quyền.', 'ba,', 'bạt', 'khai,', 'tâm,', 'bằng,', 'minh', 'bạch,', 'chủ.', 'Chọn', 'người,', 'năng', 'lực,', 'việc,', 'đánh', 'cống', 'hiến', 'trí.', 'tư,', 'đại', 'nay', 'Cách', '4.0', 'Xã', '5.0,', 'khi', 'tiến', 'vượt', 'bậc', 'khoa', 'học', 'nghệ', 'nền', 'kinh', 'tế', 'tự', 'động', 'trí', 'tuệ', 'Internet', 'văn', 'loài', 'triển', 'nhanh', 'chưa', 'càng', 'thông', 'minh.', 'Thách', 'thức', 'nhưng', 'cá', 'nhân,', 'tổ', 'chức', 'gia.', 'này,', 'doanh', 'chú', 'tài.', 'năm,', 'xem', 'chỉ', 'tham', 'giám', 'sát', 'quần', 'dân;', 'dựa', 'dân.', 'cùng', 'tốt,', 'hiện,', 'thải', 'chất', 'một', 'thường', 'xuyên,', 'liên', 'tục', 'kịp', 'thời.', 'Vậy', 'đáp', 'ứng', 'cầu', 'hình', 'mới?', 'Để', 'hụt', 'hẫng,', 'tiếp', 'kế', 'cận,', 'dạn', 'nóng', 'vội.', 'Trẻ', 'hóa', 'mỗi', 'ủy', 'thiết,', 'song', 'gần', 'đây', 'thấy', 'thị', 'trường,', 'trẻ', 'bộ,', 'luân', '“hình', 'thức”,', 'vội,', 'trách', 'đủ', 'chín,', 'thách,', 'dẫn', 'lầm,', 'hậu', 'tiêu', 'cực.', 'Do', 'bước,', 'nấc,', 'đi', 'đôi', 'phẩm', 'đó', 'hiểu', 'bộ.', 'Cần', 'cấu', 'hợp', 'đạo,', 'cả', 'độ', 'tuổi', 'nghiệm,', 'trải;', 'luôn', 'bồi', 'dưỡng', 'dìu', 'dắt', 'thiết.', 'Mặt', 'khác,', 'nằm', 'quy', 'hoạch', 'khơi', 'dậy', 'nảy', 'nở', 'chúng.', 'ngừng', 'đổi', 'mới,', 'nguyên', 'tắc', 'bất', 'tôn', 'phù', 'biện', 'chứng', 'bắt', 'mạnh.', 'Các', 'điều', 'chỉnh', 'hợp:', 'vừa', 'đức;', 'tấm', 'cần,', 'kiệm,', 'liêm', 'chính,', 'vô', 'tư.', 'Bên', 'còn', 'dám', 'nghĩ,', 'làm,', 'tiên', 'phong', 'chịu', 'nhiệm,', 'chấp', 'mình', 'quan,', 'triển.', 'Đặc', 'bên', 'kiến', 'thức,', 'chuyên', 'môn,', 'trải,', 'thách', 'tiễn', 'Tôi', 'nay,', 'lựa', 'chọn', 'trên,', 'tu', 'dưỡng,', 'phấn', 'đấu,', 'đầy', 'gánh', 'vác', 'phó.', 'Nhật', 'Bản', 'lập', '\"hàng', 'rào\"', 'điện', 'tử', 'phó', 'đơn', 'vị', 'nhằm', 'hoạt', 'quân', 'biển', 'Hoa', 'Đông', 'khu', 'vực', 'hai', 'Nikkei,', '3', 'trên', 'đảo', 'hướng', '3/2022,', 'tăng', 'cường', 'khả', 'vùng', 'này.', 'Từ', 'radar', 'lạc', 'tới', 'tên', 'lửa', 'đường', 'bằng', 'tia', 'hồng', 'ngoại,', 'lượng', 'vũ', 'trang', 'sóng', 'từ.', 'thiết', 'gây', 'nhiễu', 'tín', 'hiệu', 'tần', 'phương.', 'Hokkaido', 'phía', 'bắc', 'Liên', 'Xô', 'Chiến', 'Lạnh.', 'Bộ', 'phòng', 'lên', 'thêm', '7', 'nữa,', 'gồm', 'khoảng', '80', 'tỉnh', 'Kumamoto', 'nam', '3/2021,', 'mới', 'Hokkaido.', '5', 'khai', 'Quốc,', 'Okinawa', 'Amami', 'Oshima.', 'phương,', 'thu', 'thập', 'phương', 'dụng.', 'vẫn', 'tập', 'nam,', 'phần', 'Đông.', 'Nobuo', 'Kishi', '8/10', 'gặp', 'Mỹ', 'Bản,', 'tướng', 'Kevin', 'Schneider,', 'trao', 'mối', 'ngại', 'Biển', 'Đông,', 'thảo', 'luận', 'củng', 'cố', 'Mỹ.', 'thăm', 'Trại', 'Asaka', 'Lực', 'vệ', 'mặt', 'nơi', 'dự', 'thủ', 'Bản.', '“Chúng', 'giành', 'ưu', 'cuộc', 'họ”,', 'nói', 'phóng', 'viên.', 'trận', 'chung', 'không.', '1/10', 'máy', 'bay', 'trinh', 'RC-2,', 'dữ', 'liệu', 'Nga', 'xung', 'quanh', 'phận', 'hỗ', 'trợ', 'đất.', 'xuất', 'gói', 'ngân', 'sách', '8,8', 'tỉ', 'yên', '(83', 'triệu', 'USD)', 'chi', 'khóa', '2021,', '2,1', 'tỷ', 'theo', 'dõi,', 'An', 'ninh', 'trung.', 'biển,', 'an', '2021', 'dịch', 'khác.', '540', 'người.', 'Quần', 'gọi', 'Senkaku', 'tuyên', 'bố', 'quyền', 'Điếu', 'Ngư.', 'Vụ', '“cái', 'gai”', 'giữa', 'niên', 'qua,', 'cải', 'đây.', 'tàu', 'tuần', 'duyên', 'cáo', 'buộc', 'hải', 'hoặc', 'giáp', 'phớt', 'lờ', 'báo', 'dường', 'tìm', 'lấn', 'lướt', 'dàn', 'trải', 'nhau.', 'thư:', 'Chính', 'định,', 'Hội', 'nghị', '13,', 'chủ,', 'xét', 'diện', 'án', 'chọn.', 'thư', 'khái', 'quát,', 'sau', 'khẩn', 'trương,', 'nghiêm', 'túc,', '13', 'Ban', 'Chấp', 'hành', 'khoá', 'XII', 'nội', 'dung', 'chương', 'trình', 'ra.', 'Uỷ', 'viên', 'tinh', 'thần', 'cao,', 'thẳng', 'thắn,', 'đóng', 'góp', 'tuệ,', 'đáng', 'cáo,', 'án.', 'cao', 'Nghị', 'quyết', 'nghị.', '“Kết', 'giới', 'thiệu', 'đẹp”', 'Về', 'XIII,', 'biết,', 'Tiểu', 'ban', 'sự,', 'kể', '12', '(tháng', '5/2020)', 'bám', 'phu,', 'học,', 'bản,', 'kỹ', 'lưỡng', 'XIII.', 'biểu', 'dương', 'uỷ,', 'đảng,', 'trực', 'thuộc', 'chu', 'đáo,', 'lưỡng,', 'mình,', 'túc', 'lấy', 'phiếu', 'ương,', 'bảo', 'đảm', 'độ,', 'trình,', 'sự.', 'Trên', 'Phương', 'danh', 'tái', 'cử', 'đầu', 'Kiểm', 'tra', 'phân', 'tích,', 'giá,', 'sâu', 'sắc,', 'huyết,', 'sung', '“Theo', 'bỏ', '(cả', 'khuyết).', 'UB', 'Kết', 'đẹp,', 'trị”', 'căn', 'cứ', 'nghị,', 'Báo', 'xét,', 'rà', 'soát', 'thật', 'kỹ,', 'sung,', '227', 'thiệu,', '200', 'Trước', 'cuối', '12/2018', '9/2020,', 'kiến,', '4', 'phê', 'duyệt', 'tổng', 'trị,', 'mở', 'Tháng', '7/2020,', 'thay', 'gửi', 'XII,', 'chuẩn,', 'kiện', 'họp', 'Căn', 'địa', 'Tính', '20/8/2020,', '116/116', '119', 'khuyết)', 'XIII;', '107', '44', 'khuyết', 'giá:', 'Nhìn', 'chung,', 'đảng', '10', '(Ban', 'Tổ', 'Bảo', 'uỷ', 'Khối', 'Thanh', 'phủ,', 'toán', 'Thường', 'vụ', 'Thành', 'phố', 'Chí', 'Minh)', 'thẩm', 'kiểm', 'tra,', '(bao', 'đầu).', 'mạnh,', 'chọn,', 'bàn,', 'yếu,', 'bàn', 'phức', 'tạp,', 'điểm;', 'xây', 'dựng', 'lâu', 'dài.', 'Khi', 'kiện,', 'cấu,', 'lượng;', 'uy', 'lý,', 'cân', 'khối;', 'phương;', 'trẻ,', 'nữ,', 'tộc', 'thiểu', 'tố', 'miền', 'lý...', 'Tuy', 'nhiên,', 'hạ', 'thấp', 'chuẩn.', 'bạch;', 'kiên', 'chống', 'quá', 'dư', 'Nhấn', 'trọng,', 'nêu', 'Quy', 'nghiên', 'cứu', 'luận,', 'nhắc,', 'ghi', 'quyết.', 'bị,', 'lượng,', 'hồ', 'sơ', 'Nội:', 'Tạm', 'đình', 'phụ', 'nữ', '“Sở', 'Khanh”', 'lừa', 'tình,', 'tiền', 'Cơ', 'tạm', 'giải', '1', 'đàn', 'ông', 'lợi', 'chuyện', 'cảm,', 'rồi', 'dụ', 'dỗ', 'gạt', 'hơn', '2,5', 'đồng.', 'Mới', 'PV', 'Dân', 'Tống', 'Anh', 'S.', '(SN', '1979,', 'quê', 'Hóa,', 'trú', 'huyện', 'Oai,', 'TP', 'Nội)', 'cảm', 'chiếm', 'đoạt', 'sản,', 'Cũng', 'giác', 'hạn', 'định.', 'Phòng', 'Cảnh', '(PC02)', 'truy', 'suốt', 'gian', 'qua.', '“Sau', 'S.,', 'hồi', 'trên.', 'Dù', 'lực”', 'thêm.', '8/10,', 'chí,', 'Oai', 'nhận,', 'vợ', 'đăng', 'ký', 'hôn.', 'hộ', 'khẩu', 'ít', 'nhà.', 'Một', 'hàng', 'xóm', 'hay,', 'rể', 'nên', 'làng', 'gì,', 'đâu.', 'Thỉnh', 'thoảng,', 'họ', 'hiền', 'lành,', 'ăn', 'dễ', 'nghe,', 'sống', 'láng', 'giềng.', 'Tìm', 'nhà', 'thân', 'lời', 'xa.', 'Vị', 'thôn', 'nghe', 'lao', 'ngoài', 'nghề', 'nông', 'đa', 'xúc.', 'Như', 'đưa', 'tin,', '4/2020,', 'tỉnh,', 'phố,', 'nạn', 'dỗ,', 'Đáng', 'ý,', 'quen', 'dành', 'độc', 'thân,', 'lỡ', 'dở', 'nửa', 'đời', 'khỏi', 'cư', 'trú.', 'mời', 'phối', 'hợp.', '8/2020,', 'PC02', 'sản.', 'Ngày', 'thoại', '0936xxxxx5', 'dây', 'kia', '(số', 'cung', 'cấp).', 'Người', 'chối', '“Đúng', 'luật”', 'nói.', 'Nước', 'sông', 'Hương', 'tràn', 'bờ,', 'Huế', 'ngập', 'mênh', 'mông', '12h', 'trưa', '9/10,', 'mưa', 'kéo', 'dài', 'mực', 'Thừa', 'Thiên', 'dâng', 'nhanh,', 'bờ.', 'Mực', 'cập', 'nhật', 'lúc', '9/10:', 'Sông', '+2,0m', 'ngang', 'mức', 'II;', 'Bồ', '+4,27m', 'dưới', 'III', '0,23m.', 'Ở', 'đập', 'Thảo', 'Long', 'mở', '15/15', 'cửa', 'xả', 'lũ', 'triều', 'cao.', 'Qua', 'cổ', 'Bao', 'Vinh', '(thị', 'Trà)', 'đường.', 'Đoạn', '(TP', 'Huế)', 'đoạn', 'trường', 'THPT', 'Gia', 'Hội.', 'Đập', 'Đá', 'sáng', 'cấm', 'lưu', 'thông…', 'Riêng', 'Phong', 'Điền,', 'Quảng', 'Vang,', 'Trà,', 'Thủy…', 'ảnh', 'hưởng', 'tuyến', 'cửa', 'UBND', '1900', '1075,', 'hãy', 'khuyến', 'trũng,', 'ao', 'sông,', 'suối', 'di', 'chuyển,', 'tán', 'tầng', 'nhất.', 'Không', 'giúp', 'đỡ,', 'quyền,', 'thân;', 'Kê', 'sản', 'phó;', 'Tích', 'trữ', 'lương', 'thực,', 'sạch,', 'phòng,...', 'xấu', 'xảy', 'Khẩn', 'trương', 'Cho', '30', 'lụt,', 'mét.', 'biệt,', 'Gióng', '1,', 'phường', 'Tây', '1m', 'chảy', 'xiết.', 'dời', 'tốc', '32', '6', 'dãy', 'trọ', '130', 'lụt.', 'Hiện', 'khảo', 'trũng', 'nguy', 'tính', 'Bầu', '2020:', 'Chuyên', 'Trump', '“thần', 'tốc”', 'Chỉ', 'vài', 'mắc', 'Covid-19,', 'Donald', 'viện', 'rằng', 'khỏe', '20', 'trước.', 'Phục', 'ngược', 'sĩ', 'Anthony', 'Fauci', ',', 'tễ', 'Covid-19', 'phủ', 'Mỹ,', 'Regeneron', 'chóng.', '\"Tôi', 'tích', 'cực,', 'nó', 'khiến', 'nhiều\",', 'trả', 'phỏng', 'hãng', 'MSNBC', '8/10.', 'phản', 'bác', 'khẳng', 'giờ', 'coi', 'Covid-19.', 'Ông', 'rằng,', 'riêng', 'đó.', 'báo,', 'huống', 'trạng', 'sức', 'so', 'tại.', '“Các', 'bạn', 'vẻ', 'Nhưng', '8', 'ngày,', 'chiều.', 'Đảo', 'chiều', 'ổn.', 'Điều', 'chắc', 'chắn', 'tâm”,', 'y', 'Walter', 'Reed', 'thở,', 'sốt', 'mệt', 'mỏi.', 'chăm', 'sóc', 'tinh.', 'viện,', 'ty', 'nghiệm.', 'Liệu', 'giảm', 'mật', 'virus', 'SARS-CoV-2', 'hứa', 'hẹn', 'nghiệm', '275', 'bệnh', 'nhân.', 'Thực', 'Dược', '(FDA)', 'cấp.', 'Renegeron', '“đặc', 'cách”', 'Trump.', 'Cùng', '2', 'loại', 'thuốc', 'remdesivir', 'dexamethasone.', 'FDA', 'Remdesivir', 'phép', '\"tái', 'xuất\"'])"
            ]
          },
          "metadata": {
            "tags": []
          },
          "execution_count": 39
        }
      ]
    }
  ]
}