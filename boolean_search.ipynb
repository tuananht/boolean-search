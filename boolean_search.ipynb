{
  "nbformat": 4,
  "nbformat_minor": 0,
  "metadata": {
    "colab": {
      "name": "boolean search.ipynb",
      "provenance": [],
      "collapsed_sections": [],
      "authorship_tag": "ABX9TyPaDSpcxFOWOjDWIMsGwuTt",
      "include_colab_link": true
    },
    "kernelspec": {
      "name": "python3",
      "display_name": "Python 3"
    }
  },
  "cells": [
    {
      "cell_type": "markdown",
      "metadata": {
        "id": "view-in-github",
        "colab_type": "text"
      },
      "source": [
        "<a href=\"https://colab.research.google.com/github/tuananht/boolean-search/blob/main/boolean_search.ipynb\" target=\"_parent\"><img src=\"https://colab.research.google.com/assets/colab-badge.svg\" alt=\"Open In Colab\"/></a>"
      ]
    },
    {
      "cell_type": "code",
      "metadata": {
        "id": "cJmBuEP7eQWR",
        "outputId": "057feb41-30f1-49e0-ef31-e3c5133fff1d",
        "colab": {
          "base_uri": "https://localhost:8080/",
          "height": 34
        }
      },
      "source": [
        "from google.colab import drive\n",
        "drive.mount('/content/drive')"
      ],
      "execution_count": 1,
      "outputs": [
        {
          "output_type": "stream",
          "text": [
            "Mounted at /content/drive\n"
          ],
          "name": "stdout"
        }
      ]
    },
    {
      "cell_type": "markdown",
      "metadata": {
        "id": "grgMnQyAMejZ"
      },
      "source": [
        "**Binary Vector**\n",
        "\n",
        "Sample\n",
        "\n",
        "Hương = {0, 1, 0, 1, 1}"
      ]
    },
    {
      "cell_type": "code",
      "metadata": {
        "id": "ryNxa5HVfD3K",
        "outputId": "6021a7a3-fac0-42ab-978b-c912a99a416d",
        "colab": {
          "base_uri": "https://localhost:8080/",
          "height": 72
        }
      },
      "source": [
        "import glob\n",
        "from collections import Counter\n",
        "import numpy as np\n",
        "\n",
        "vocb = {} # binary vector\n",
        "fileNames = glob.glob('/content/drive/My Drive/UIT-GRAD/Model/content-news/*.txt')\n",
        "totalFiles = len(fileNames)\n",
        "for index, filename in enumerate(fileNames):\n",
        "   with open(os.path.join(content_path, filename), 'r') as f: # open in readonly mode\n",
        "      content = f.read()\n",
        "      to_array = content.split()\n",
        "      for value in to_array:\n",
        "        booleanVector = vocb.get(value)\n",
        "        if (booleanVector is not None):\n",
        "          if (booleanVector[index] == 1):\n",
        "            continue\n",
        "          booleanVector[index] = 1\n",
        "        else:\n",
        "          booleanVector = np.zeros(totalFiles)\n",
        "          booleanVector[index] = 1\n",
        "\n",
        "        vocb[value] = booleanVector\n",
        "print(fileNames)\n",
        "print(vocb['Hương'])"
      ],
      "execution_count": 8,
      "outputs": [
        {
          "output_type": "stream",
          "text": [
            "['/content/drive/My Drive/UIT-GRAD/Model/content-news/Nhân sự đại hội.txt', '/content/drive/My Drive/UIT-GRAD/Model/content-news/Nhật bản lập hàng rào tác chiến.txt', '/content/drive/My Drive/UIT-GRAD/Model/content-news/Nhan su 2020.txt', '/content/drive/My Drive/UIT-GRAD/Model/content-news/Dinh chỉ 7 phụ nữ.txt', '/content/drive/My Drive/UIT-GRAD/Model/content-news/Nước sông Hương gần tràn bờ, TP Huế ngập.txt', '/content/drive/My Drive/UIT-GRAD/Model/content-news/Bau cu my.txt']\n",
            "[0. 0. 0. 0. 1. 0.]\n"
          ],
          "name": "stdout"
        }
      ]
    },
    {
      "cell_type": "markdown",
      "metadata": {
        "id": "Oee8Oql1Mq8q"
      },
      "source": [
        "**Index Vector**\n",
        "\n",
        "Sample:\n",
        "Hương = {1, 2, 3, 20}\n"
      ]
    },
    {
      "cell_type": "code",
      "metadata": {
        "id": "pXg2gGCiMcDY",
        "outputId": "6c248ef7-4f94-4a63-8f7d-32705b491453",
        "colab": {
          "base_uri": "https://localhost:8080/",
          "height": 34
        }
      },
      "source": [
        "import glob\n",
        "from collections import Counter\n",
        "import numpy as np\n",
        "\n",
        "vocb = {} # binary vector\n",
        "fileNames = glob.glob('/content/drive/My Drive/UIT-GRAD/Model/content-news/*.txt')\n",
        "totalFiles = len(fileNames)\n",
        "for index, filename in enumerate(fileNames):\n",
        "   with open(os.path.join(content_path, filename), 'r') as f: # open in readonly mode\n",
        "      content = f.read()\n",
        "      to_array = content.split()\n",
        "      for value in to_array:\n",
        "        booleanVector = vocb.get(value)\n",
        "        if (booleanVector is not None):\n",
        "          if (index in booleanVector):\n",
        "            continue\n",
        "          booleanVector.append(index)\n",
        "        else:\n",
        "          booleanVector = [index]\n",
        "\n",
        "        vocb[value] = booleanVector\n",
        "\n",
        "query = 'Trump'\n",
        "\n",
        "for val in vocb[query]:\n",
        "  print(fileNames[val])\n"
      ],
      "execution_count": 51,
      "outputs": [
        {
          "output_type": "stream",
          "text": [
            "/content/drive/My Drive/UIT-GRAD/Model/content-news/Bau cu my.txt\n"
          ],
          "name": "stdout"
        }
      ]
    },
    {
      "cell_type": "code",
      "metadata": {
        "id": "vOW7LB0i4UEj"
      },
      "source": [
        "def andTwoArray(array1, array2):\n",
        "  result = np.zeros(len(array1))\n",
        "  for i in range(len(array1)):\n",
        "    if array1[i] == array2[i]:\n",
        "      result[i] = array1[i]\n",
        "    elif array1[i] == 0 or array2[i] == 0:\n",
        "      result[i] = 0\n",
        "  return result\n",
        "\n",
        "def orTwoArray(array1, array2):\n",
        "  result = np.zeros(len(array1))\n",
        "  for i in range(len(array1)):\n",
        "      if array1[i] == array2[i]:\n",
        "        result[i] = array1[i]\n",
        "      elif array1[i] == 1 or array2[i] == 1:\n",
        "        result[i] = 1\n",
        "  return result\n",
        "\n",
        "\n",
        "def notTwoArray(array1, array2):\n",
        "  result = np.zeros(len(array1))\n",
        "  for i in range(len(array1)):\n",
        "    if array1[i] == 0:\n",
        "      result[i] = 1\n",
        "    else:\n",
        "      result[i] = 0"
      ],
      "execution_count": 44,
      "outputs": []
    },
    {
      "cell_type": "code",
      "metadata": {
        "id": "NqFYGInXHCJr"
      },
      "source": [
        "def showResult(result):\n",
        "  file = []\n",
        "  for index, val in enumerate(result):\n",
        "    if (val == 1):\n",
        "      file.append(fileNames[index])\n",
        "\n",
        "  return file"
      ],
      "execution_count": 22,
      "outputs": []
    },
    {
      "cell_type": "code",
      "metadata": {
        "id": "7EtLAvXAGuvK",
        "outputId": "71324cc7-0d42-4bec-ba8c-574caf2965df",
        "colab": {
          "base_uri": "https://localhost:8080/",
          "height": 87
        }
      },
      "source": [
        "result = orTwoArray(vocb['Hương'], vocb['Quốc'])\n",
        "files = showResult(result)\n",
        "\n",
        "print(result)\n",
        "print('\\n'.join(map(str, files)))"
      ],
      "execution_count": 32,
      "outputs": [
        {
          "output_type": "stream",
          "text": [
            "[1. 1. 0. 0. 1. 0.]\n",
            "/content/drive/My Drive/UIT-GRAD/Model/content-news/Nhân sự đại hội.txt\n",
            "/content/drive/My Drive/UIT-GRAD/Model/content-news/Nhật bản lập hàng rào tác chiến.txt\n",
            "/content/drive/My Drive/UIT-GRAD/Model/content-news/Nước sông Hương gần tràn bờ, TP Huế ngập.txt\n"
          ],
          "name": "stdout"
        }
      ]
    },
    {
      "cell_type": "code",
      "metadata": {
        "id": "dynkATHwIgZm",
        "outputId": "9d99cfca-fb18-4ab2-b47b-c70f7130355f",
        "colab": {
          "base_uri": "https://localhost:8080/",
          "height": 105
        }
      },
      "source": [
        "query = 'nhân sư đại hội 2020'\n",
        "print(query.split(' '))\n",
        "\n",
        "vectorQuery = {}\n",
        "for q in query.split(' '):\n",
        "  if q in vocb.keys():\n",
        "    vectorQuery[q] = vocb[q]\n",
        "\n",
        "result = np.zeros(len(fileNames))\n",
        "for i in vectorQuery.keys():\n",
        "  result = orTwoArray(result, vectorQuery[i])\n",
        "\n",
        "print('\\n'.join(map(str, showResult(result))))\n"
      ],
      "execution_count": 43,
      "outputs": [
        {
          "output_type": "stream",
          "text": [
            "['nhân', 'sư', 'đại', 'hội', '2020']\n",
            "/content/drive/My Drive/UIT-GRAD/Model/content-news/Nhân sự đại hội.txt\n",
            "/content/drive/My Drive/UIT-GRAD/Model/content-news/Nhan su 2020.txt\n",
            "/content/drive/My Drive/UIT-GRAD/Model/content-news/Dinh chỉ 7 phụ nữ.txt\n",
            "/content/drive/My Drive/UIT-GRAD/Model/content-news/Nước sông Hương gần tràn bờ, TP Huế ngập.txt\n"
          ],
          "name": "stdout"
        }
      ]
    },
    {
      "cell_type": "code",
      "metadata": {
        "id": "Cq5GkEjlMEYX"
      },
      "source": [
        ""
      ],
      "execution_count": null,
      "outputs": []
    }
  ]
}