{
  "nbformat": 4,
  "nbformat_minor": 0,
  "metadata": {
    "colab": {
      "name": "boolean search.ipynb",
      "provenance": [],
      "collapsed_sections": [],
      "authorship_tag": "ABX9TyNcgw58/7ujMQFuEyDYHAXl",
      "include_colab_link": true
    },
    "kernelspec": {
      "name": "python3",
      "display_name": "Python 3"
    }
  },
  "cells": [
    {
      "cell_type": "markdown",
      "metadata": {
        "id": "view-in-github",
        "colab_type": "text"
      },
      "source": [
        "<a href=\"https://colab.research.google.com/github/tuananht/boolean-search/blob/main/boolean_search.ipynb\" target=\"_parent\"><img src=\"https://colab.research.google.com/assets/colab-badge.svg\" alt=\"Open In Colab\"/></a>"
      ]
    },
    {
      "cell_type": "code",
      "metadata": {
        "id": "cJmBuEP7eQWR",
        "outputId": "7263aac4-0bae-4f69-8eb0-35b0a5dc880d",
        "colab": {
          "base_uri": "https://localhost:8080/",
          "height": 35
        }
      },
      "source": [
        "from google.colab import drive\n",
        "drive.mount('/content/drive')"
      ],
      "execution_count": null,
      "outputs": [
        {
          "output_type": "stream",
          "text": [
            "Mounted at /content/drive\n"
          ],
          "name": "stdout"
        }
      ]
    },
    {
      "cell_type": "code",
      "metadata": {
        "id": "o8H0PdFtets5"
      },
      "source": [
        "import os"
      ],
      "execution_count": null,
      "outputs": []
    },
    {
      "cell_type": "code",
      "metadata": {
        "id": "LEHJQgBpeyyM"
      },
      "source": [
        "execution_path = os.getcwd()\n",
        "content_path = os.path.join(execution_path , \"/content/drive/My Drive/UIT-GRAD/Model/content-news\")"
      ],
      "execution_count": null,
      "outputs": []
    },
    {
      "cell_type": "code",
      "metadata": {
        "id": "wA31FoKV2eTT",
        "outputId": "9c1558b0-1b97-4104-ce24-eada261bc363",
        "colab": {
          "base_uri": "https://localhost:8080/",
          "height": 35
        }
      },
      "source": [
        "temp = np.zeros(6)\n",
        "temp[3] = 1\n",
        "print(temp)"
      ],
      "execution_count": null,
      "outputs": [
        {
          "output_type": "stream",
          "text": [
            "[0. 0. 0. 1. 0. 0.]\n"
          ],
          "name": "stdout"
        }
      ]
    },
    {
      "cell_type": "code",
      "metadata": {
        "id": "ryNxa5HVfD3K",
        "outputId": "9d8a8707-4fd5-4b2d-a657-67dbde6e7e41",
        "colab": {
          "base_uri": "https://localhost:8080/",
          "height": 35
        }
      },
      "source": [
        "import glob\n",
        "from collections import Counter\n",
        "import numpy as np\n",
        "\n",
        "vocb = {}\n",
        "fileNames = glob.glob('/content/drive/My Drive/UIT-GRAD/Model/content-news/*.txt')\n",
        "totalFiles = len(fileNames)\n",
        "for index, filename in enumerate(fileNames):\n",
        "   with open(os.path.join(content_path, filename), 'r') as f: # open in readonly mode\n",
        "      content = f.read()\n",
        "      to_array = content.split()\n",
        "      for value in to_array:\n",
        "        booleanVector = vocb.get(value)\n",
        "        if (booleanVector is not None):\n",
        "          if (booleanVector[index] == 1):\n",
        "            continue\n",
        "          booleanVector[index] = 1\n",
        "        else:\n",
        "          booleanVector = np.zeros(totalFiles)\n",
        "          booleanVector[index] = 1\n",
        "\n",
        "        vocb[value] = booleanVector\n",
        "\n",
        "print(vocb['Hương'])"
      ],
      "execution_count": null,
      "outputs": [
        {
          "output_type": "stream",
          "text": [
            "[1. 0. 0. 0. 0. 0.]\n"
          ],
          "name": "stdout"
        }
      ]
    },
    {
      "cell_type": "code",
      "metadata": {
        "id": "bvFH7pRypCBq"
      },
      "source": [
        ""
      ],
      "execution_count": null,
      "outputs": []
    }
  ]
}